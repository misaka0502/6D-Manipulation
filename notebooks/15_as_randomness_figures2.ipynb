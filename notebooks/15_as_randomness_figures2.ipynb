{
 "cells": [
  {
   "cell_type": "code",
   "execution_count": null,
   "metadata": {},
   "outputs": [],
   "source": [
    "from src.visualization.render_mp4 import unpickle_data\n",
    "from matplotlib import pyplot as plt\n",
    "import numpy as np\n",
    "from pathlib import Path\n",
    "from glob import glob\n",
    "\n",
    "plt.rcParams[\"font.family\"] = \"Times New Roman\""
   ]
  },
  {
   "cell_type": "code",
   "execution_count": 2,
   "metadata": {},
   "outputs": [],
   "source": [
    "low_path = \"/data/scratch/ankile/tmp/med/raw/diffik/sim/one_leg/rollout/low/failure\"\n",
    "med_path = \"/data/scratch/ankile/tmp/med/raw/diffik/sim/one_leg/rollout/med/failure\"\n",
    "high_path = \"/data/scratch/ankile/tmp/med/raw/diffik/sim/one_leg/rollout/high/failure\""
   ]
  },
  {
   "cell_type": "code",
   "execution_count": 3,
   "metadata": {},
   "outputs": [],
   "source": [
    "def plot_images(randomness, path, task=\"one_leg\"):\n",
    "    images = []\n",
    "    for i, f in enumerate(glob(str(Path(path) / \"*.pkl\"))):\n",
    "        data = unpickle_data(f)\n",
    "        \n",
    "        obs = data[\"observations\"][5]\n",
    "\n",
    "        images.append(obs[\"color_image2\"])\n",
    "\n",
    "        if i > 5:\n",
    "            break\n",
    "\n",
    "    # Plot the 16 images in a 4x4 grid\n",
    "    # fig, axs = plt.subplots(4, 4, figsize=(16, 12))\n",
    "    fig, axs = plt.subplots(1, 5, figsize=(16, 3))\n",
    "    for i, ax in enumerate(axs.flat):\n",
    "        ax.imshow(images[i])\n",
    "        ax.axis(\"off\")\n",
    "\n",
    "    # Remove whitespace between subplots\n",
    "    plt.subplots_adjust(wspace=0, hspace=0)\n",
    "\n",
    "    # Make a title with the randomness\n",
    "    # fig.suptitle(f\"Task: {task}, Randomness: {randomness}\", fontsize=20)"
   ]
  },
  {
   "cell_type": "code",
   "execution_count": null,
   "metadata": {},
   "outputs": [],
   "source": [
    "low_path = \"/data/scratch/ankile/tmp/med/raw/diffik/sim/one_leg/rollout/low/failure\"\n",
    "med_path = \"/data/scratch/ankile/tmp/med/raw/diffik/sim/one_leg/rollout/med/failure\"\n",
    "high_path = \"/data/scratch/ankile/tmp/med/raw/diffik/sim/one_leg/rollout/high/failure\"\n",
    "plot_images(\"low\", low_path)\n",
    "plot_images(\"med\", med_path)\n",
    "# plot_images(\"high\", high_path)"
   ]
  },
  {
   "cell_type": "code",
   "execution_count": null,
   "metadata": {},
   "outputs": [],
   "source": [
    "low_path = \"/data/scratch-oc40/pulkitag/ankile/furniture-data/raw/diffik/sim/lamp/teleop/low/success\"\n",
    "med_path = \"/data/scratch-oc40/pulkitag/ankile/furniture-data/raw/diffik/sim/lamp/teleop/med/success\"\n",
    "plot_images(\"low\", low_path, task=\"lamp\")\n",
    "plot_images(\"med\", med_path, task=\"lamp\")"
   ]
  },
  {
   "cell_type": "code",
   "execution_count": null,
   "metadata": {},
   "outputs": [],
   "source": [
    "low_path = \"/data/scratch-oc40/pulkitag/ankile/furniture-data/raw/diffik/sim/round_table/teleop/low/success\"\n",
    "med_path = \"/data/scratch-oc40/pulkitag/ankile/furniture-data/raw/diffik/sim/round_table/teleop/med/success\"\n",
    "plot_images(\"low\", low_path, task=\"round_table\")\n",
    "plot_images(\"med\", med_path, task=\"round_table\")"
   ]
  },
  {
   "cell_type": "code",
   "execution_count": null,
   "metadata": {},
   "outputs": [],
   "source": [
    "low_path = \"/data/scratch-oc40/pulkitag/ankile/furniture-data/raw/diffik/sim/factory_peg_hole/teleop/low/success\"\n",
    "plot_images(\"low\", low_path, task=\"factory_peg_hole\")"
   ]
  },
  {
   "cell_type": "code",
   "execution_count": null,
   "metadata": {},
   "outputs": [],
   "source": [
    "low_path = \"/data/scratch-oc40/pulkitag/ankile/furniture-data/raw/diffik/sim/mug_rack/teleop/low/success\"\n",
    "plot_images(\"low\", low_path, task=\"mug_rack\")"
   ]
  },
  {
   "cell_type": "code",
   "execution_count": null,
   "metadata": {},
   "outputs": [],
   "source": []
  }
 ],
 "metadata": {
  "kernelspec": {
   "display_name": "rr",
   "language": "python",
   "name": "python3"
  },
  "language_info": {
   "codemirror_mode": {
    "name": "ipython",
    "version": 3
   },
   "file_extension": ".py",
   "mimetype": "text/x-python",
   "name": "python",
   "nbconvert_exporter": "python",
   "pygments_lexer": "ipython3",
   "version": "3.8.19"
  }
 },
 "nbformat": 4,
 "nbformat_minor": 2
}
