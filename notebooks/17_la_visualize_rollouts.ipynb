{
 "cells": [
  {
   "cell_type": "code",
   "execution_count": 1,
   "metadata": {},
   "outputs": [],
   "source": [
    "%load_ext autoreload\n",
    "%autoreload 2"
   ]
  },
  {
   "cell_type": "code",
   "execution_count": 2,
   "metadata": {},
   "outputs": [
    {
     "name": "stdout",
     "output_type": "stream",
     "text": [
      "Importing module 'gym_38' (/data/scratch/ankile/isaacgym/python/isaacgym/_bindings/linux-x86_64/gym_38.so)\n",
      "Setting GYM_USD_PLUG_INFO_PATH to /data/scratch/ankile/isaacgym/python/isaacgym/_bindings/linux-x86_64/usd/plugInfo.json\n"
     ]
    }
   ],
   "source": [
    "import random\n",
    "from pathlib import Path\n",
    "\n",
    "from src.common.files import get_raw_paths\n",
    "from src.visualization.render_mp4 import mp4_from_pickle_jupyter"
   ]
  },
  {
   "cell_type": "code",
   "execution_count": 3,
   "metadata": {},
   "outputs": [
    {
     "name": "stdout",
     "output_type": "stream",
     "text": [
      "Found the following paths:\n",
      "    /data/scratch-oc40/pulkitag/ankile/furniture-data/raw/diffik/sim/one_leg/rollout/low/rppo_10_demos/success/*.pkl*\n"
     ]
    },
    {
     "data": {
      "text/plain": [
       "57"
      ]
     },
     "execution_count": 3,
     "metadata": {},
     "output_type": "execute_result"
    }
   ],
   "source": [
    "paths = get_raw_paths(\n",
    "    domain=\"sim\",\n",
    "    demo_source=\"rollout\",\n",
    "    controller=\"diffik\",\n",
    "    randomness=\"low\",\n",
    "    task=\"one_leg\",\n",
    "    demo_outcome=\"success\",\n",
    "    suffix=\"rppo_10_demos\",\n",
    ")\n",
    "\n",
    "len(paths)"
   ]
  },
  {
   "cell_type": "code",
   "execution_count": null,
   "metadata": {},
   "outputs": [],
   "source": [
    "for i, path in enumerate(paths):\n",
    "    mp4_from_pickle_jupyter(path, filename=f\"rppo_10_demos_{i}.mp4\")"
   ]
  },
  {
   "cell_type": "markdown",
   "metadata": {},
   "source": [
    "## Visualize policy before and after RL training"
   ]
  },
  {
   "cell_type": "markdown",
   "metadata": {},
   "source": [
    "### Before training"
   ]
  },
  {
   "cell_type": "code",
   "execution_count": null,
   "metadata": {},
   "outputs": [],
   "source": [
    "bc_paths = get_raw_paths(\n",
    "    domain=\"sim\",\n",
    "    demo_source=\"rollout\",\n",
    "    controller=\"diffik\",\n",
    "    randomness=\"low\",\n",
    "    task=\"one_leg\",\n",
    "    demo_outcome=\"failure\",\n",
    "    suffix=\"side_by_side_bc\",\n",
    ")\n",
    "\n",
    "random.shuffle(bc_paths)\n",
    "\n",
    "len(bc_paths)"
   ]
  },
  {
   "cell_type": "code",
   "execution_count": null,
   "metadata": {},
   "outputs": [],
   "source": [
    "for i, path in enumerate(bc_paths[:5]):\n",
    "    mp4_from_pickle_jupyter(path, filename=f\"side_by_side_bc_{i}.mp4\", cameras=[2])"
   ]
  },
  {
   "cell_type": "markdown",
   "metadata": {},
   "source": [
    "### After training"
   ]
  },
  {
   "cell_type": "code",
   "execution_count": null,
   "metadata": {},
   "outputs": [],
   "source": [
    "rl_paths = get_raw_paths(\n",
    "    domain=\"sim\",\n",
    "    demo_source=\"rollout\",\n",
    "    controller=\"diffik\",\n",
    "    randomness=\"low\",\n",
    "    task=\"one_leg\",\n",
    "    demo_outcome=\"success\",\n",
    "    suffix=\"side_by_side_rl\",\n",
    ")\n",
    "\n",
    "random.shuffle(rl_paths)\n",
    "\n",
    "len(rl_paths)"
   ]
  },
  {
   "cell_type": "code",
   "execution_count": null,
   "metadata": {},
   "outputs": [],
   "source": [
    "for i, path in enumerate(rl_paths[:5]):\n",
    "    mp4_from_pickle_jupyter(path, filename=f\"side_by_side_rl_{i}.mp4\", cameras=[2])"
   ]
  },
  {
   "cell_type": "markdown",
   "metadata": {},
   "source": [
    "### Real world data, wrist camera"
   ]
  },
  {
   "cell_type": "code",
   "execution_count": null,
   "metadata": {},
   "outputs": [],
   "source": [
    "real_paths = get_raw_paths(\n",
    "    domain=\"real\",\n",
    "    demo_source=\"teleop\",\n",
    "    controller=\"diffik\",\n",
    "    randomness=\"low\",\n",
    "    task=\"lamp\",\n",
    "    demo_outcome=\"success\",\n",
    ")\n",
    "\n",
    "random.shuffle(real_paths)\n",
    "\n",
    "len(real_paths)"
   ]
  },
  {
   "cell_type": "code",
   "execution_count": null,
   "metadata": {},
   "outputs": [],
   "source": [
    "for i, path in enumerate(real_paths[:2]):\n",
    "    mp4_from_pickle_jupyter(path, filename=f\"real_wrist_{i}.mp4\", cameras=[1])"
   ]
  }
 ],
 "metadata": {
  "kernelspec": {
   "display_name": "rr",
   "language": "python",
   "name": "python3"
  },
  "language_info": {
   "codemirror_mode": {
    "name": "ipython",
    "version": 3
   },
   "file_extension": ".py",
   "mimetype": "text/x-python",
   "name": "python",
   "nbconvert_exporter": "python",
   "pygments_lexer": "ipython3",
   "version": "3.8.19"
  }
 },
 "nbformat": 4,
 "nbformat_minor": 2
}
