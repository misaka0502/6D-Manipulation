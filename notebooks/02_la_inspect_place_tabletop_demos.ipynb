{
 "cells": [
  {
   "cell_type": "code",
   "execution_count": null,
   "metadata": {},
   "outputs": [],
   "source": [
    "%load_ext autoreload\n",
    "%autoreload 2"
   ]
  },
  {
   "cell_type": "code",
   "execution_count": null,
   "metadata": {},
   "outputs": [],
   "source": [
    "from pathlib import Path\n",
    "\n",
    "from torch.utils.data import DataLoader\n",
    "\n",
    "from src.dataset.dataset import FurnitureStateDataset\n",
    "\n",
    "from src.dataset.dataloader import EndlessDataloader\n",
    "\n",
    "import numpy as np\n",
    "\n",
    "from src.visualization.render_mp4 import create_mp4_jupyter"
   ]
  },
  {
   "cell_type": "code",
   "execution_count": null,
   "metadata": {},
   "outputs": [],
   "source": [
    "def get_demo_data_loader(control_mode, batch_size, num_workers=4) -> DataLoader:\n",
    "    demo_data = FurnitureStateDataset(\n",
    "        dataset_paths=Path(\n",
    "            \"/data/scratch/ankile/furniture-data/processed/sim/one_leg/teleop/low/success.zarr\"\n",
    "        ),\n",
    "        pred_horizon=1,\n",
    "        obs_horizon=1,\n",
    "        action_horizon=1,\n",
    "        normalizer=None,\n",
    "        data_subset=None,\n",
    "        control_mode=control_mode,\n",
    "        first_action_idx=0,\n",
    "        pad_after=False,\n",
    "        max_episode_count=None,\n",
    "    )\n",
    "\n",
    "    demo_data_loader = EndlessDataloader(\n",
    "        dataset=demo_data,\n",
    "        batch_size=batch_size,\n",
    "        num_workers=num_workers,\n",
    "        shuffle=True,\n",
    "        pin_memory=True,\n",
    "        drop_last=False,\n",
    "        persistent_workers=False,\n",
    "    )\n",
    "\n",
    "    return demo_data_loader\n"
   ]
  },
  {
   "cell_type": "code",
   "execution_count": null,
   "metadata": {},
   "outputs": [],
   "source": [
    "dataset = get_demo_data_loader(\"delta\", 32).dataset"
   ]
  },
  {
   "cell_type": "code",
   "execution_count": null,
   "metadata": {},
   "outputs": [],
   "source": [
    "# Get the episode data\n",
    "ep_ends = dataset.episode_ends\n",
    "\n",
    "images_list = np.split(dataset.train_data[\"color_image2\"], ep_ends[:-1])\n",
    "images_list = [image.numpy() for image in images_list]"
   ]
  },
  {
   "cell_type": "code",
   "execution_count": null,
   "metadata": {},
   "outputs": [],
   "source": [
    "for i, images in enumerate(images_list[:]):\n",
    "    create_mp4_jupyter(images, f\"demo_{i}.mp4\", fps=20)"
   ]
  },
  {
   "cell_type": "code",
   "execution_count": null,
   "metadata": {},
   "outputs": [],
   "source": []
  }
 ],
 "metadata": {
  "kernelspec": {
   "display_name": "rr",
   "language": "python",
   "name": "python3"
  },
  "language_info": {
   "codemirror_mode": {
    "name": "ipython",
    "version": 3
   },
   "file_extension": ".py",
   "mimetype": "text/x-python",
   "name": "python",
   "nbconvert_exporter": "python",
   "pygments_lexer": "ipython3",
   "version": "3.8.19"
  }
 },
 "nbformat": 4,
 "nbformat_minor": 2
}
