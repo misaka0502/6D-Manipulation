{
 "cells": [
  {
   "cell_type": "code",
   "execution_count": null,
   "metadata": {},
   "outputs": [],
   "source": [
    "%load_ext autoreload\n",
    "%autoreload 2"
   ]
  },
  {
   "cell_type": "code",
   "execution_count": null,
   "metadata": {},
   "outputs": [],
   "source": [
    "from src.gym import get_env\n",
    "\n",
    "from pathlib import Path\n",
    "from tqdm import tqdm\n",
    "\n",
    "import numpy as np\n",
    "\n",
    "\n",
    "from datetime import datetime\n",
    "\n",
    "\n",
    "base_dir = Path(\"tmp\")"
   ]
  },
  {
   "cell_type": "code",
   "execution_count": null,
   "metadata": {},
   "outputs": [],
   "source": [
    "num_envs = 2048\n",
    "observation_space = \"state\"  # \"image\" or \"state\"\n",
    "\n",
    "env = get_env(\n",
    "    gpu_id=0,\n",
    "    furniture=\"one_leg\",\n",
    "    num_envs=num_envs,\n",
    "    randomness=\"low\",\n",
    "    observation_space=observation_space,\n",
    "    resize_img=False,\n",
    "    april_tags=False,\n",
    "    action_type=\"delta\",\n",
    "    ctrl_mode=\"diffik\",\n",
    "    act_rot_repr=\"quat\",\n",
    "    verbose=False,\n",
    "    headless=not False,\n",
    ")"
   ]
  },
  {
   "cell_type": "code",
   "execution_count": null,
   "metadata": {},
   "outputs": [],
   "source": [
    "# Perform random actions\n",
    "env.reset()\n",
    "n_steps = 100\n",
    "start = datetime.now()\n",
    "for i in tqdm(range(n_steps)):\n",
    "    action = np.random.uniform(-1, 1, size=(env.num_envs, 8))\n",
    "    # # Zero out all but the first 3 values\n",
    "    # action[:, 3:] = 0\n",
    "    # Zero out the first 3 values\n",
    "    action[:, :3] = 0\n",
    "    # # But then set the real value of the quaternion to 1\n",
    "    # Make an action that moves the robot 1cm in the x direction\n",
    "    # action = np.zeros((env.num_envs, 8))\n",
    "    # action[:, 0] = 0.01 * int((0.5 - (i > 25)) * 2)\n",
    "    # action[:, 6] = 1\n",
    "    # # Keep the gripper open\n",
    "    # action[:, 7] = -1\n",
    "    env.step(action)\n",
    "\n",
    "elapsed = datetime.now() - start\n",
    "\n",
    "time_per_step = elapsed.total_seconds() / n_steps\n",
    "env_steps_per_second = 1 / time_per_step * num_envs\n",
    "\n",
    "print(\n",
    "    f\"Envs: {num_envs}, Time per step: {time_per_step:.2f}s, Env steps per second: {env_steps_per_second:.2f}\"\n",
    ")"
   ]
  },
  {
   "cell_type": "code",
   "execution_count": null,
   "metadata": {},
   "outputs": [],
   "source": [
    "import cProfile\n",
    "import pstats\n",
    "\n",
    "# Perform random actions\n",
    "env.reset()\n",
    "n_steps = 5\n",
    "\n",
    "\n",
    "def run_steps():\n",
    "    for i in tqdm(range(n_steps)):\n",
    "        action = np.random.uniform(-1, 1, size=(env.num_envs, 8))\n",
    "\n",
    "        # Zero out all but the first 3 values\n",
    "        action[:, 3:] = 0\n",
    "        action[:, 6] = 1\n",
    "        # Keep the gripper open\n",
    "        action[:, 7] = -1\n",
    "        env.step(action)\n",
    "\n",
    "\n",
    "pr = cProfile.Profile()\n",
    "\n",
    "start = datetime.now()\n",
    "pr.enable()\n",
    "run_steps()\n",
    "pr.disable()\n",
    "elapsed = datetime.now() - start\n",
    "\n",
    "time_per_step = elapsed.total_seconds() / n_steps\n",
    "env_steps_per_second = 1 / time_per_step * num_envs\n",
    "\n",
    "print(\n",
    "    f\"Envs: {num_envs}, Time per step: {time_per_step:.2f}s, Env steps per second: {env_steps_per_second:.2f}\"\n",
    ")\n",
    "\n",
    "ps = pstats.Stats(pr)\n",
    "ps.sort_stats(\"cumulative\")\n",
    "ps.print_stats()"
   ]
  },
  {
   "cell_type": "markdown",
   "metadata": {},
   "source": [
    "Take out `_get_parts_poses`\n"
   ]
  },
  {
   "cell_type": "code",
   "execution_count": null,
   "metadata": {},
   "outputs": [],
   "source": [
    "import cProfile\n",
    "import pstats\n",
    "\n",
    "# Perform random actions\n",
    "env.reset()\n",
    "n_steps = 10\n",
    "\n",
    "\n",
    "def run_steps():\n",
    "    for i in tqdm(range(n_steps)):\n",
    "        action = np.random.uniform(-1, 1, size=(env.num_envs, 8))\n",
    "\n",
    "        # Zero out all but the first 3 values\n",
    "        action[:, 3:] = 0\n",
    "        action[:, 6] = 1\n",
    "        # Keep the gripper open\n",
    "        action[:, 7] = -1\n",
    "        env.step(action)\n",
    "\n",
    "\n",
    "pr = cProfile.Profile()\n",
    "\n",
    "start = datetime.now()\n",
    "pr.enable()\n",
    "run_steps()\n",
    "pr.disable()\n",
    "elapsed = datetime.now() - start\n",
    "\n",
    "time_per_step = elapsed.total_seconds() / n_steps\n",
    "env_steps_per_second = 1 / time_per_step * num_envs\n",
    "\n",
    "print(\n",
    "    f\"Envs: {num_envs}, Time per step: {time_per_step:.2f}s, Env steps per second: {env_steps_per_second:.2f}\"\n",
    ")\n",
    "\n",
    "ps = pstats.Stats(pr)\n",
    "ps.sort_stats(\"cumulative\")\n",
    "ps.print_stats()"
   ]
  },
  {
   "cell_type": "markdown",
   "metadata": {},
   "source": [
    "Comment out most things related to rendering images\n"
   ]
  },
  {
   "cell_type": "code",
   "execution_count": null,
   "metadata": {},
   "outputs": [],
   "source": [
    "import cProfile\n",
    "import pstats\n",
    "\n",
    "# Perform random actions\n",
    "env.reset()\n",
    "n_steps = 10\n",
    "\n",
    "\n",
    "def run_steps():\n",
    "    for i in tqdm(range(n_steps)):\n",
    "        action = np.random.uniform(-1, 1, size=(env.num_envs, 8))\n",
    "\n",
    "        # Zero out all but the first 3 values\n",
    "        action[:, 3:] = 0\n",
    "        action[:, 6] = 1\n",
    "        # Keep the gripper open\n",
    "        action[:, 7] = -1\n",
    "        env.step(action)\n",
    "\n",
    "\n",
    "pr = cProfile.Profile()\n",
    "\n",
    "start = datetime.now()\n",
    "pr.enable()\n",
    "run_steps()\n",
    "pr.disable()\n",
    "elapsed = datetime.now() - start\n",
    "\n",
    "time_per_step = elapsed.total_seconds() / n_steps\n",
    "env_steps_per_second = 1 / time_per_step * num_envs\n",
    "\n",
    "print(\n",
    "    f\"Envs: {num_envs}, Time per step: {time_per_step:.2f}s, Env steps per second: {env_steps_per_second:.2f}\"\n",
    ")\n",
    "\n",
    "ps = pstats.Stats(pr)\n",
    "ps.sort_stats(\"cumulative\")\n",
    "ps.print_stats()"
   ]
  },
  {
   "cell_type": "markdown",
   "metadata": {},
   "source": [
    "Reintroduce the `_get_parts_poses` function\n"
   ]
  },
  {
   "cell_type": "code",
   "execution_count": null,
   "metadata": {},
   "outputs": [],
   "source": [
    "import cProfile\n",
    "import pstats\n",
    "\n",
    "# Perform random actions\n",
    "env.reset()\n",
    "n_steps = 10\n",
    "\n",
    "\n",
    "def run_steps():\n",
    "    for i in tqdm(range(n_steps)):\n",
    "        action = np.random.uniform(-1, 1, size=(env.num_envs, 8))\n",
    "\n",
    "        # Zero out all but the first 3 values\n",
    "        action[:, 3:] = 0\n",
    "        action[:, 6] = 1\n",
    "        # Keep the gripper open\n",
    "        action[:, 7] = -1\n",
    "        env.step(action)\n",
    "\n",
    "\n",
    "pr = cProfile.Profile()\n",
    "\n",
    "start = datetime.now()\n",
    "pr.enable()\n",
    "run_steps()\n",
    "pr.disable()\n",
    "elapsed = datetime.now() - start\n",
    "\n",
    "time_per_step = elapsed.total_seconds() / n_steps\n",
    "env_steps_per_second = 1 / time_per_step * num_envs\n",
    "\n",
    "print(\n",
    "    f\"Envs: {num_envs}, Time per step: {time_per_step:.2f}s, Env steps per second: {env_steps_per_second:.2f}\"\n",
    ")\n",
    "\n",
    "ps = pstats.Stats(pr)\n",
    "ps.sort_stats(\"cumulative\")\n",
    "ps.print_stats()"
   ]
  },
  {
   "cell_type": "markdown",
   "metadata": {},
   "source": [
    "Set calculate the parts poses in the sim coordinates\n"
   ]
  },
  {
   "cell_type": "code",
   "execution_count": null,
   "metadata": {},
   "outputs": [],
   "source": [
    "import cProfile\n",
    "import pstats\n",
    "\n",
    "# Perform random actions\n",
    "env.reset()\n",
    "n_steps = 10\n",
    "\n",
    "\n",
    "def run_steps():\n",
    "    for i in tqdm(range(n_steps)):\n",
    "        action = np.random.uniform(-1, 1, size=(env.num_envs, 8))\n",
    "\n",
    "        # Zero out all but the first 3 values\n",
    "        action[:, 3:] = 0\n",
    "        action[:, 6] = 1\n",
    "        # Keep the gripper open\n",
    "        action[:, 7] = -1\n",
    "        env.step(action)\n",
    "\n",
    "\n",
    "pr = cProfile.Profile()\n",
    "\n",
    "start = datetime.now()\n",
    "pr.enable()\n",
    "run_steps()\n",
    "pr.disable()\n",
    "elapsed = datetime.now() - start\n",
    "\n",
    "time_per_step = elapsed.total_seconds() / n_steps\n",
    "env_steps_per_second = 1 / time_per_step * num_envs\n",
    "\n",
    "print(\n",
    "    f\"Envs: {num_envs}, Time per step: {time_per_step:.2f}s, Env steps per second: {env_steps_per_second:.2f}\"\n",
    ")\n",
    "\n",
    "ps = pstats.Stats(pr)\n",
    "ps.sort_stats(\"cumulative\")\n",
    "ps.print_stats()"
   ]
  },
  {
   "cell_type": "markdown",
   "metadata": {},
   "source": [
    "Reintroduce image rendering\n"
   ]
  },
  {
   "cell_type": "code",
   "execution_count": null,
   "metadata": {},
   "outputs": [],
   "source": [
    "import cProfile\n",
    "import pstats\n",
    "\n",
    "# Perform random actions\n",
    "env.reset()\n",
    "n_steps = 10\n",
    "\n",
    "\n",
    "def run_steps():\n",
    "    for i in tqdm(range(n_steps)):\n",
    "        action = np.random.uniform(-1, 1, size=(env.num_envs, 8))\n",
    "\n",
    "        # Zero out all but the first 3 values\n",
    "        action[:, 3:] = 0\n",
    "        action[:, 6] = 1\n",
    "        # Keep the gripper open\n",
    "        action[:, 7] = -1\n",
    "        env.step(action)\n",
    "\n",
    "\n",
    "pr = cProfile.Profile()\n",
    "\n",
    "start = datetime.now()\n",
    "pr.enable()\n",
    "run_steps()\n",
    "pr.disable()\n",
    "elapsed = datetime.now() - start\n",
    "\n",
    "time_per_step = elapsed.total_seconds() / n_steps\n",
    "env_steps_per_second = 1 / time_per_step * num_envs\n",
    "\n",
    "print(\n",
    "    f\"Envs: {num_envs}, Time per step: {time_per_step:.2f}s, Env steps per second: {env_steps_per_second:.2f}\"\n",
    ")\n",
    "\n",
    "ps = pstats.Stats(pr)\n",
    "ps.sort_stats(\"cumulative\")\n",
    "ps.print_stats()"
   ]
  },
  {
   "cell_type": "markdown",
   "metadata": {},
   "source": [
    "After more optimzation\n"
   ]
  },
  {
   "cell_type": "code",
   "execution_count": null,
   "metadata": {},
   "outputs": [],
   "source": [
    "import cProfile\n",
    "import pstats\n",
    "\n",
    "# Perform random actions\n",
    "env.reset()\n",
    "n_steps = 10\n",
    "\n",
    "\n",
    "def run_steps():\n",
    "    for i in tqdm(range(n_steps)):\n",
    "        action = np.random.uniform(-1, 1, size=(env.num_envs, 8))\n",
    "\n",
    "        # Zero out all but the first 3 values\n",
    "        action[:, 3:] = 0\n",
    "        action[:, 6] = 1\n",
    "        # Keep the gripper open\n",
    "        action[:, 7] = -1\n",
    "        env.step(action)\n",
    "\n",
    "\n",
    "pr = cProfile.Profile()\n",
    "\n",
    "start = datetime.now()\n",
    "pr.enable()\n",
    "run_steps()\n",
    "pr.disable()\n",
    "elapsed = datetime.now() - start\n",
    "\n",
    "time_per_step = elapsed.total_seconds() / n_steps\n",
    "env_steps_per_second = 1 / time_per_step * num_envs\n",
    "\n",
    "print(\n",
    "    f\"Envs: {num_envs}, Time per step: {time_per_step:.2f}s, Env steps per second: {env_steps_per_second:.2f}\"\n",
    ")\n",
    "\n",
    "ps = pstats.Stats(pr)\n",
    "ps.sort_stats(\"cumulative\")\n",
    "ps.print_stats()"
   ]
  },
  {
   "cell_type": "code",
   "execution_count": null,
   "metadata": {},
   "outputs": [],
   "source": [
    "obs = env.reset()"
   ]
  },
  {
   "cell_type": "code",
   "execution_count": null,
   "metadata": {},
   "outputs": [],
   "source": [
    "obs.keys()"
   ]
  },
  {
   "cell_type": "code",
   "execution_count": null,
   "metadata": {},
   "outputs": [],
   "source": [
    "import torch\n",
    "\n",
    "from furniture_bench.controllers.diffik import diffik_factory"
   ]
  },
  {
   "cell_type": "code",
   "execution_count": null,
   "metadata": {},
   "outputs": [],
   "source": [
    "ctrl = diffik_factory(real_robot=False)"
   ]
  },
  {
   "cell_type": "code",
   "execution_count": null,
   "metadata": {},
   "outputs": [],
   "source": [
    "goal_pos = torch.tensor([0.5, 0.5, 0.5])\n",
    "qoal_ori = torch.tensor([1, 0, 0, 0])\n",
    "\n",
    "ctrl.set_goal(goal_pos, qoal_ori)"
   ]
  },
  {
   "cell_type": "code",
   "execution_count": null,
   "metadata": {},
   "outputs": [],
   "source": [
    "state_dict = {\n",
    "    \"joint_positions\": torch.randn(7),\n",
    "    \"jacobian_diffik\": torch.randn(6, 7),\n",
    "    \"ee_pos\": torch.randn(3),\n",
    "    \"ee_quat\": torch.randn(4),\n",
    "}"
   ]
  },
  {
   "cell_type": "code",
   "execution_count": null,
   "metadata": {},
   "outputs": [],
   "source": [
    "ctrl.forward(state_dict)"
   ]
  },
  {
   "cell_type": "code",
   "execution_count": null,
   "metadata": {},
   "outputs": [],
   "source": [
    "# Add leading dimension to simulate multiple envs\n",
    "goal_pos = goal_pos.unsqueeze(0)\n",
    "qoal_ori = qoal_ori.unsqueeze(0)\n",
    "\n",
    "ctrl.set_goal(goal_pos, qoal_ori)"
   ]
  },
  {
   "cell_type": "code",
   "execution_count": null,
   "metadata": {},
   "outputs": [],
   "source": [
    "# Add one leading dimension to simulate the batch dimension\n",
    "for k, v in state_dict.items():\n",
    "    state_dict[k] = v.unsqueeze(0)"
   ]
  },
  {
   "cell_type": "code",
   "execution_count": null,
   "metadata": {},
   "outputs": [],
   "source": [
    "ctrl.forward_batched(state_dict)"
   ]
  },
  {
   "cell_type": "code",
   "execution_count": null,
   "metadata": {},
   "outputs": [],
   "source": []
  }
 ],
 "metadata": {
  "kernelspec": {
   "display_name": "ilgpu",
   "language": "python",
   "name": "python3"
  },
  "language_info": {
   "codemirror_mode": {
    "name": "ipython",
    "version": 3
   },
   "file_extension": ".py",
   "mimetype": "text/x-python",
   "name": "python",
   "nbconvert_exporter": "python",
   "pygments_lexer": "ipython3",
   "version": "3.8.19"
  }
 },
 "nbformat": 4,
 "nbformat_minor": 2
}
