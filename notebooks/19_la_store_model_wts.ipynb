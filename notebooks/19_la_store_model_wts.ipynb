{
 "cells": [
  {
   "cell_type": "code",
   "execution_count": 1,
   "metadata": {},
   "outputs": [],
   "source": [
    "import os\n",
    "import wandb\n",
    "import torch\n",
    "from pathlib import Path\n",
    "\n",
    "def download_and_modify_weights(run_id, output_folder):\n",
    "    # Initialize wandb API\n",
    "    api = wandb.Api()\n",
    "\n",
    "    # Get the run\n",
    "    try:\n",
    "        run = api.run(run_id)\n",
    "    except wandb.errors.CommError:\n",
    "        print(f\"Error: Unable to find run with id {run_id}\")\n",
    "        return\n",
    "\n",
    "    # Find the file ending with 'best_success_rate.pt'\n",
    "    best_file = None\n",
    "\n",
    "    run_files = list(run.files())\n",
    "\n",
    "    # Sort the files so that newest file is first\n",
    "    run_files = sorted(run_files, key=lambda x: x.updated_at, reverse=True)\n",
    "\n",
    "    for file in run.files():\n",
    "        if file.name.endswith('best_success_rate.pt'):\n",
    "            best_file = file\n",
    "            break\n",
    "\n",
    "    if not best_file:\n",
    "        print(f\"Error: No file ending with 'best_success_rate.pt' found for run {run_id}\")\n",
    "        return\n",
    "\n",
    "    # Download the file\n",
    "    best_file.download(replace=True)\n",
    "\n",
    "    # Load the weights\n",
    "    weights = torch.load(best_file.name)\n",
    "\n",
    "    # Add the run config to the weights\n",
    "    weights['config'] = run.config\n",
    "\n",
    "    # Create the output folder if it doesn't exist\n",
    "    output_folder = Path(output_folder)\n",
    "    output_folder.mkdir(parents=True, exist_ok=True)\n",
    "\n",
    "    # Save the modified weights with the new simplified filename\n",
    "    output_path = output_folder / \"actor_chkpt.pt\"\n",
    "    \n",
    "    torch.save(weights, str(output_path))\n",
    "\n",
    "    print(f\"Modified weights for run {run_id} saved to {output_path}\")\n",
    "\n",
    "def process_runs(run_dict):\n",
    "    checkpoint_path = Path(os.environ.get('CHECKPOINT_PATH', ''))\n",
    "    \n",
    "    for output_folder, run_id in run_dict.items():\n",
    "        full_output_path = checkpoint_path / output_folder\n",
    "        print(f\"Processing run {run_id} to output folder {full_output_path}\")\n",
    "        download_and_modify_weights(run_id, full_output_path)"
   ]
  },
  {
   "cell_type": "code",
   "execution_count": 2,
   "metadata": {},
   "outputs": [],
   "source": [
    "os.environ[\"CHECKPOINT_PATH\"] = \"/data/scratch/ankile/rr-best-checkpoints\""
   ]
  },
  {
   "cell_type": "code",
   "execution_count": null,
   "metadata": {},
   "outputs": [],
   "source": [
    "# Example usage\n",
    "runs_to_process = {\n",
    "    \"bc/one_leg/low\": \"ol-state-dr-1/e3d4a367\",\n",
    "    \"bc/one_leg/med\": \"ol-state-dr-med-1/9zjnzg4r\",\n",
    "    \"bc/round_table/low\": \"rt-state-dr-low-1/z3efusm6\",\n",
    "    \"bc/round_table/med\": \"rt-state-dr-med-1/n5g6x9jg\",\n",
    "    \"bc/lamp/low\": \"lp-state-dr-low-1/b5dcl1tt\",\n",
    "    \"bc/lamp/med\": \"lp-state-dr-med-1/fziwvs8k\",\n",
    "    \"bc/mug_rack/low\": \"mr-state-dr-low-1/uet1h1ex\",\n",
    "    \"bc/factory_peg_hole/low\": \"fph-state-dr-low-1/4vwizwue\",\n",
    "    \"rppo/one_leg/low\": \"ol-rppo-dr-low-1/jamz5ley\",\n",
    "    \"rppo/one_leg/med\": \"ol-rppo-dr-med-1/oipdyimz\",\n",
    "    \"rppo/round_table/low\": \"rt-rppo-dr-low-1/np48i8wp\",\n",
    "    \"rppo/round_table/med\": \"rt-rppo-dr-med-1/k737s8lj\",\n",
    "    \"rppo/lamp/low\": \"lp-rppo-dr-low-1/hd2i5gje\",\n",
    "    \"rppo/lamp/med\": \"lp-rppo-dr-med-1/ev23t35c\",\n",
    "    \"rppo/mug_rack/low\": \"mr-rppo-dr-low-1/dvw6zk8e\",\n",
    "    \"rppo/factory_peg_hole/low\": \"fph-rppo-dr-low-1/2kd9vgx9\",\n",
    "}\n",
    "\n",
    "process_runs(runs_to_process)"
   ]
  },
  {
   "cell_type": "code",
   "execution_count": null,
   "metadata": {},
   "outputs": [],
   "source": []
  }
 ],
 "metadata": {
  "kernelspec": {
   "display_name": "rr",
   "language": "python",
   "name": "python3"
  },
  "language_info": {
   "codemirror_mode": {
    "name": "ipython",
    "version": 3
   },
   "file_extension": ".py",
   "mimetype": "text/x-python",
   "name": "python",
   "nbconvert_exporter": "python",
   "pygments_lexer": "ipython3",
   "version": "3.8.19"
  }
 },
 "nbformat": 4,
 "nbformat_minor": 2
}
