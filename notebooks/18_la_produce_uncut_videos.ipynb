{
 "cells": [
  {
   "cell_type": "code",
   "execution_count": null,
   "metadata": {},
   "outputs": [],
   "source": [
    "%load_ext autoreload\n",
    "%autoreload 2"
   ]
  },
  {
   "cell_type": "code",
   "execution_count": 10,
   "metadata": {},
   "outputs": [],
   "source": [
    "import os\n",
    "import random\n",
    "from pathlib import Path\n",
    "\n",
    "from tqdm import tqdm\n",
    "\n",
    "from src.common.files import get_raw_paths\n",
    "from src.visualization.render_mp4 import mp4_from_pickle_jupyter, mp4_from_pickle"
   ]
  },
  {
   "cell_type": "code",
   "execution_count": 11,
   "metadata": {},
   "outputs": [],
   "source": [
    "os.environ[\"DATA_DIR_RAW\"] = \"/data/scratch/ankile/robust-assembly-video-data\""
   ]
  },
  {
   "cell_type": "code",
   "execution_count": 31,
   "metadata": {},
   "outputs": [],
   "source": [
    "root = Path(os.environ[\"DATA_DIR_RAW\"])\n",
    "root_video_output_dir = root / \"videos\""
   ]
  },
  {
   "cell_type": "markdown",
   "metadata": {},
   "source": [
    "# One Leg, low\n"
   ]
  },
  {
   "cell_type": "code",
   "execution_count": 52,
   "metadata": {},
   "outputs": [],
   "source": [
    "# video_output_dir = root_video_output_dir / \"one_leg_low\"\n",
    "# (video_output_dir / \"rppo\").mkdir(exist_ok=True)\n",
    "# (video_output_dir / \"bc\").mkdir(exist_ok=True)\n",
    "\n",
    "video_output_dir = root_video_output_dir.parent / \"mp4_rendered\" / \"one_leg\"\n",
    "(video_output_dir / \"rppo\").mkdir(parents=True, exist_ok=True)\n",
    "(video_output_dir / \"bc\").mkdir(parents=True, exist_ok=True)"
   ]
  },
  {
   "cell_type": "markdown",
   "metadata": {},
   "source": [
    "### RPPO"
   ]
  },
  {
   "cell_type": "code",
   "execution_count": null,
   "metadata": {},
   "outputs": [],
   "source": [
    "# rppo_pickles = get_raw_paths(\n",
    "#     domain=\"sim\",\n",
    "#     controller=\"diffik\",\n",
    "#     task=\"one_leg\",\n",
    "#     demo_outcome=[\"success\", \"failure\"],\n",
    "#     suffix=\"rppo\",\n",
    "#     demo_source=\"rollout\",\n",
    "#     randomness=\"low\",\n",
    "# )\n",
    "\n",
    "rppo_pickles = list((video_output_dir.parent.parent / \"rendered\" / \"one_leg\" / \"rppo\").glob(\"*.pkl\"))\n",
    "\n",
    "random.shuffle(rppo_pickles)\n",
    "\n",
    "len(rppo_pickles)"
   ]
  },
  {
   "cell_type": "code",
   "execution_count": 54,
   "metadata": {},
   "outputs": [],
   "source": [
    "# Keep only files ending with .xz\n",
    "# rppo_pickles = [p for p in rppo_pickles if p.suffix == \".xz\"]\n",
    "\n",
    "# len(rppo_pickles)"
   ]
  },
  {
   "cell_type": "code",
   "execution_count": null,
   "metadata": {},
   "outputs": [],
   "source": [
    "successful_renders = 0\n",
    "i = 0\n",
    "\n",
    "it = tqdm(total=1000)\n",
    "\n",
    "while successful_renders < 1000 and i < len(rppo_pickles):\n",
    "    pkl = rppo_pickles[i]\n",
    "    try:\n",
    "        mp4_from_pickle(pkl, video_output_dir / \"rppo\" / f\"{successful_renders:04d}.mp4\", fps=40, cameras=[2])\n",
    "        successful_renders += 1\n",
    "        it.update(1)\n",
    "    except EOFError:\n",
    "        print(f\"Failed to render {pkl}, deleting file.\")\n",
    "        pkl.unlink()\n",
    "    i += 1"
   ]
  },
  {
   "cell_type": "code",
   "execution_count": 28,
   "metadata": {},
   "outputs": [],
   "source": [
    "# Make a txt file with the list of videos\n",
    "with open(video_output_dir / \"rppo\" / \"videos.txt\", \"w\") as f:\n",
    "    for i in range(1_000):\n",
    "        f.write(f\"file '{i:04d}.mp4'\\n\")\n"
   ]
  },
  {
   "cell_type": "markdown",
   "metadata": {},
   "source": [
    "### BC"
   ]
  },
  {
   "cell_type": "code",
   "execution_count": null,
   "metadata": {},
   "outputs": [],
   "source": [
    "bc_pickles = get_raw_paths(\n",
    "    domain=\"sim\",\n",
    "    controller=\"diffik\",\n",
    "    task=\"one_leg\",\n",
    "    demo_outcome=[\"success\", \"failure\"],\n",
    "    suffix=\"bc\",\n",
    "    demo_source=\"rollout\",\n",
    "    randomness=\"low\",\n",
    ")\n",
    "\n",
    "random.shuffle(bc_pickles)\n",
    "\n",
    "len(bc_pickles)"
   ]
  },
  {
   "cell_type": "code",
   "execution_count": null,
   "metadata": {},
   "outputs": [],
   "source": [
    "successful_renders = 0\n",
    "i = 0\n",
    "\n",
    "it = tqdm(total=1000)\n",
    "\n",
    "while successful_renders < 1000 and i < len(bc_pickles):\n",
    "    pkl = bc_pickles[i]\n",
    "    try:\n",
    "        mp4_from_pickle(pkl, video_output_dir / \"bc\" / f\"{successful_renders:04d}.mp4\", fps=40, cameras=[2])\n",
    "        successful_renders += 1\n",
    "        it.update(1)\n",
    "    except EOFError:\n",
    "        print(f\"Failed to render {pkl}, deleting file.\")\n",
    "        pkl.unlink()\n",
    "    i += 1"
   ]
  },
  {
   "cell_type": "code",
   "execution_count": 27,
   "metadata": {},
   "outputs": [],
   "source": [
    "# Make a txt file with the list of videos\n",
    "with open(video_output_dir / \"bc\" / \"videos.txt\", \"w\") as f:\n",
    "    for i in range(1_000):\n",
    "        f.write(f\"file '{i:04d}.mp4'\\n\")\n"
   ]
  },
  {
   "cell_type": "markdown",
   "metadata": {},
   "source": [
    "# Round Table, Medium, Ray-traced\n"
   ]
  },
  {
   "cell_type": "code",
   "execution_count": 6,
   "metadata": {},
   "outputs": [],
   "source": [
    "video_output_dir = root_video_output_dir.parent / \"mp4_rendered\" / \"round_table\"\n",
    "(video_output_dir / \"rppo\").mkdir(parents=True, exist_ok=True)\n",
    "(video_output_dir / \"bc\").mkdir(parents=True, exist_ok=True)"
   ]
  },
  {
   "cell_type": "markdown",
   "metadata": {},
   "source": [
    "### RPPO"
   ]
  },
  {
   "cell_type": "code",
   "execution_count": null,
   "metadata": {},
   "outputs": [],
   "source": [
    "rppo_pickles = list((video_output_dir.parent.parent / \"rendered\" / \"round_table\" / \"rppo\").glob(\"*.pkl\"))\n",
    "\n",
    "random.shuffle(rppo_pickles)\n",
    "\n",
    "len(rppo_pickles)"
   ]
  },
  {
   "cell_type": "code",
   "execution_count": null,
   "metadata": {},
   "outputs": [],
   "source": [
    "successful_renders = 0\n",
    "i = 0\n",
    "desired_renders = 100\n",
    "\n",
    "it = tqdm(total=desired_renders)\n",
    "\n",
    "while successful_renders < desired_renders and i < len(rppo_pickles):\n",
    "    pkl = rppo_pickles[i]\n",
    "    try:\n",
    "        mp4_from_pickle(pkl, video_output_dir / \"rppo\" / f\"{successful_renders:04d}.mp4\", fps=40, cameras=[2])\n",
    "        successful_renders += 1\n",
    "        it.update(1)\n",
    "    except EOFError:\n",
    "        print(f\"Failed to render {pkl}, deleting file.\")\n",
    "        pkl.unlink()\n",
    "    i += 1"
   ]
  },
  {
   "cell_type": "code",
   "execution_count": null,
   "metadata": {},
   "outputs": [],
   "source": [
    "# Make a txt file with the list of videos\n",
    "with open(video_output_dir / \"rppo\" / \"videos.txt\", \"w\") as f:\n",
    "    for i in range(desired_renders):\n",
    "        f.write(f\"file '{i:04d}.mp4'\\n\")"
   ]
  },
  {
   "cell_type": "markdown",
   "metadata": {},
   "source": [
    "### BC"
   ]
  },
  {
   "cell_type": "code",
   "execution_count": null,
   "metadata": {},
   "outputs": [],
   "source": [
    "bc_pickles = list((video_output_dir.parent.parent / \"rendered\" / \"round_table\" / \"bc\").glob(\"*.pkl\"))\n",
    "\n",
    "random.shuffle(bc_pickles)\n",
    "\n",
    "len(bc_pickles)"
   ]
  },
  {
   "cell_type": "code",
   "execution_count": null,
   "metadata": {},
   "outputs": [],
   "source": [
    "successful_renders = 0\n",
    "i = 0\n",
    "desired_renders = min(100, len(bc_pickles))\n",
    "\n",
    "it = tqdm(total=desired_renders)\n",
    "\n",
    "while successful_renders < desired_renders and i < len(bc_pickles):\n",
    "    pkl = bc_pickles[i]\n",
    "    try:\n",
    "        mp4_from_pickle(pkl, video_output_dir / \"bc\" / f\"{successful_renders:04d}.mp4\", fps=40, cameras=[2])\n",
    "        successful_renders += 1\n",
    "        it.update(1)\n",
    "    except EOFError:\n",
    "        print(f\"Failed to render {pkl}, deleting file.\")\n",
    "        pkl.unlink()\n",
    "    i += 1"
   ]
  },
  {
   "cell_type": "code",
   "execution_count": null,
   "metadata": {},
   "outputs": [],
   "source": [
    "# Make a txt file with the list of videos\n",
    "with open(video_output_dir / \"bc\" / \"videos.txt\", \"w\") as f:\n",
    "    for i in range(desired_renders):\n",
    "        f.write(f\"file '{i:04d}.mp4'\\n\")\n"
   ]
  },
  {
   "cell_type": "code",
   "execution_count": 9,
   "metadata": {},
   "outputs": [],
   "source": [
    "video_output_dir = root_video_output_dir / \"round_table_med\"\n",
    "(video_output_dir / \"rppo\").mkdir(parents=True, exist_ok=True)\n",
    "(video_output_dir / \"bc\").mkdir(parents=True, exist_ok=True)"
   ]
  },
  {
   "cell_type": "markdown",
   "metadata": {},
   "source": [
    "# Round Table, Medium\n"
   ]
  },
  {
   "cell_type": "markdown",
   "metadata": {},
   "source": [
    "### RPPO"
   ]
  },
  {
   "cell_type": "code",
   "execution_count": null,
   "metadata": {},
   "outputs": [],
   "source": [
    "rppo_pickles = get_raw_paths(\n",
    "    domain=\"sim\",\n",
    "    controller=\"diffik\",\n",
    "    task=\"round_table\",\n",
    "    demo_outcome=[\"success\", \"failure\"],\n",
    "    suffix=\"rppo\",\n",
    "    demo_source=\"rollout\",\n",
    "    randomness=\"med\",\n",
    ")\n",
    "\n",
    "random.shuffle(rppo_pickles)\n",
    "\n",
    "len(rppo_pickles)"
   ]
  },
  {
   "cell_type": "code",
   "execution_count": null,
   "metadata": {},
   "outputs": [],
   "source": [
    "successful_renders = 0\n",
    "i = 0\n",
    "\n",
    "it = tqdm(total=1000)\n",
    "\n",
    "while successful_renders < 1000 and i < len(rppo_pickles):\n",
    "    pkl = rppo_pickles[i]\n",
    "    try:\n",
    "        mp4_from_pickle(pkl, video_output_dir / \"rppo\" / f\"{successful_renders:04d}.mp4\", fps=40, cameras=[2])\n",
    "        successful_renders += 1\n",
    "        it.update(1)\n",
    "    except EOFError:\n",
    "        print(f\"Failed to render {pkl}, deleting file.\")\n",
    "        pkl.unlink()\n",
    "    i += 1"
   ]
  },
  {
   "cell_type": "code",
   "execution_count": 16,
   "metadata": {},
   "outputs": [],
   "source": [
    "# Make a txt file with the list of videos\n",
    "with open(video_output_dir / \"rppo\" / \"videos.txt\", \"w\") as f:\n",
    "    for i in range(1_000):\n",
    "        f.write(f\"file '{i:04d}.mp4'\\n\")\n"
   ]
  },
  {
   "cell_type": "markdown",
   "metadata": {},
   "source": [
    "### BC"
   ]
  },
  {
   "cell_type": "code",
   "execution_count": null,
   "metadata": {},
   "outputs": [],
   "source": [
    "bc_pickles = get_raw_paths(\n",
    "    domain=\"sim\",\n",
    "    controller=\"diffik\",\n",
    "    task=\"round_table\",\n",
    "    demo_outcome=[\"success\", \"failure\"],\n",
    "    suffix=\"bc\",\n",
    "    demo_source=\"rollout\",\n",
    "    randomness=\"med\",\n",
    ")\n",
    "\n",
    "random.shuffle(bc_pickles)\n",
    "\n",
    "len(bc_pickles)"
   ]
  },
  {
   "cell_type": "code",
   "execution_count": null,
   "metadata": {},
   "outputs": [],
   "source": [
    "successful_renders = 0\n",
    "i = 0\n",
    "\n",
    "it = tqdm(total=1000)\n",
    "\n",
    "while successful_renders < 1000 and i < len(bc_pickles):\n",
    "    pkl = bc_pickles[i]\n",
    "    try:\n",
    "        mp4_from_pickle(pkl, video_output_dir / \"bc\" / f\"{successful_renders:04d}.mp4\", fps=40, cameras=[2])\n",
    "        successful_renders += 1\n",
    "        it.update(1)\n",
    "    except EOFError:\n",
    "        print(f\"Failed to render {pkl}, deleting file.\")\n",
    "        pkl.unlink()\n",
    "    i += 1"
   ]
  },
  {
   "cell_type": "code",
   "execution_count": 19,
   "metadata": {},
   "outputs": [],
   "source": [
    "# Make a txt file with the list of videos\n",
    "with open(video_output_dir / \"bc\" / \"videos.txt\", \"w\") as f:\n",
    "    for i in range(1_000):\n",
    "        f.write(f\"file '{i:04d}.mp4'\\n\")\n"
   ]
  },
  {
   "cell_type": "markdown",
   "metadata": {},
   "source": [
    "# Factory Peg Hole, Low\n"
   ]
  },
  {
   "cell_type": "code",
   "execution_count": 17,
   "metadata": {},
   "outputs": [],
   "source": [
    "video_output_dir = root_video_output_dir / \"factory_peg_hole\"\n",
    "(video_output_dir / \"rppo\").mkdir(exist_ok=True, parents=True)\n",
    "(video_output_dir / \"bc\").mkdir(exist_ok=True, parents=True)"
   ]
  },
  {
   "cell_type": "markdown",
   "metadata": {},
   "source": [
    "### RPPO"
   ]
  },
  {
   "cell_type": "code",
   "execution_count": null,
   "metadata": {},
   "outputs": [],
   "source": [
    "rppo_pickles = get_raw_paths(\n",
    "    domain=\"sim\",\n",
    "    controller=\"diffik\",\n",
    "    task=\"factory_peg_hole\",\n",
    "    demo_outcome=[\"success\", \"failure\"],\n",
    "    suffix=\"rppo\",\n",
    "    demo_source=\"rollout\",\n",
    "    randomness=\"low\",\n",
    ")\n",
    "\n",
    "random.shuffle(rppo_pickles)\n",
    "\n",
    "len(rppo_pickles)"
   ]
  },
  {
   "cell_type": "code",
   "execution_count": null,
   "metadata": {},
   "outputs": [],
   "source": [
    "rppo_pickles[0]\n",
    "\n",
    "mp4_from_pickle_jupyter(rppo_pickles[0], \"fph_test.mp4\", fps=40, cameras=[2])"
   ]
  },
  {
   "cell_type": "code",
   "execution_count": null,
   "metadata": {},
   "outputs": [],
   "source": [
    "video_output_dir"
   ]
  },
  {
   "cell_type": "code",
   "execution_count": null,
   "metadata": {},
   "outputs": [],
   "source": [
    "successful_renders = 0\n",
    "i = 0\n",
    "\n",
    "it = tqdm(total=1000)\n",
    "\n",
    "while successful_renders < 1000 and i < len(rppo_pickles):\n",
    "    pkl = rppo_pickles[i]\n",
    "    try:\n",
    "        mp4_from_pickle(pkl, video_output_dir / \"rppo\" / f\"{successful_renders:04d}.mp4\", fps=40, cameras=[2])\n",
    "        successful_renders += 1\n",
    "        it.update(1)\n",
    "    except EOFError:\n",
    "        print(f\"Failed to render {pkl}, deleting file.\")\n",
    "        pkl.unlink()\n",
    "    i += 1"
   ]
  },
  {
   "cell_type": "code",
   "execution_count": null,
   "metadata": {},
   "outputs": [],
   "source": [
    "# Make a txt file with the list of videos\n",
    "with open(video_output_dir / \"rppo\" / \"videos.txt\", \"w\") as f:\n",
    "    for i in range(1_000):\n",
    "        f.write(f\"file '{i:04d}.mp4'\\n\")\n"
   ]
  },
  {
   "cell_type": "markdown",
   "metadata": {},
   "source": [
    "### BC"
   ]
  },
  {
   "cell_type": "code",
   "execution_count": null,
   "metadata": {},
   "outputs": [],
   "source": [
    "bc_pickles = get_raw_paths(\n",
    "    domain=\"sim\",\n",
    "    controller=\"diffik\",\n",
    "    task=\"factory_peg_hole\",\n",
    "    demo_outcome=[\"success\", \"failure\"],\n",
    "    suffix=\"bc\",\n",
    "    demo_source=\"rollout\",\n",
    "    randomness=\"low\",\n",
    ")\n",
    "\n",
    "random.shuffle(bc_pickles)\n",
    "\n",
    "len(bc_pickles)"
   ]
  },
  {
   "cell_type": "code",
   "execution_count": null,
   "metadata": {},
   "outputs": [],
   "source": [
    "successful_renders = 0\n",
    "i = 0\n",
    "\n",
    "it = tqdm(total=1000)\n",
    "\n",
    "while successful_renders < 1000 and i < len(bc_pickles):\n",
    "    pkl = bc_pickles[i]\n",
    "    try:\n",
    "        mp4_from_pickle(pkl, video_output_dir / \"bc\" / f\"{successful_renders:04d}.mp4\", fps=40, cameras=[2])\n",
    "        successful_renders += 1\n",
    "        it.update(1)\n",
    "    except EOFError:\n",
    "        print(f\"Failed to render {pkl}, deleting file.\")\n",
    "        pkl.unlink()\n",
    "    i += 1"
   ]
  },
  {
   "cell_type": "code",
   "execution_count": null,
   "metadata": {},
   "outputs": [],
   "source": [
    "# Make a txt file with the list of videos\n",
    "with open(video_output_dir / \"bc\" / \"videos.txt\", \"w\") as f:\n",
    "    for i in range(1_000):\n",
    "        f.write(f\"file '{i:04d}.mp4'\\n\")\n"
   ]
  },
  {
   "cell_type": "markdown",
   "metadata": {},
   "source": [
    "# Mug Rack, Low\n"
   ]
  },
  {
   "cell_type": "code",
   "execution_count": 48,
   "metadata": {},
   "outputs": [],
   "source": [
    "video_output_dir = root_video_output_dir / \"mug_rack\"\n",
    "(video_output_dir / \"rppo\").mkdir(exist_ok=True, parents=True)\n",
    "(video_output_dir / \"bc\").mkdir(exist_ok=True, parents=True)"
   ]
  },
  {
   "cell_type": "markdown",
   "metadata": {},
   "source": [
    "### RPPO"
   ]
  },
  {
   "cell_type": "code",
   "execution_count": null,
   "metadata": {},
   "outputs": [],
   "source": [
    "rppo_pickles = get_raw_paths(\n",
    "    domain=\"sim\",\n",
    "    controller=\"diffik\",\n",
    "    task=\"mug_rack\",\n",
    "    demo_outcome=[\"success\", \"failure\"],\n",
    "    suffix=\"rppo\",\n",
    "    demo_source=\"rollout\",\n",
    "    randomness=\"low\",\n",
    ")\n",
    "\n",
    "random.shuffle(rppo_pickles)\n",
    "\n",
    "len(rppo_pickles)"
   ]
  },
  {
   "cell_type": "code",
   "execution_count": null,
   "metadata": {},
   "outputs": [],
   "source": [
    "rppo_pickles[0]\n",
    "\n",
    "mp4_from_pickle_jupyter(rppo_pickles[0], \"fph_test.mp4\", fps=40, cameras=[2])"
   ]
  },
  {
   "cell_type": "code",
   "execution_count": null,
   "metadata": {},
   "outputs": [],
   "source": [
    "video_output_dir"
   ]
  },
  {
   "cell_type": "code",
   "execution_count": null,
   "metadata": {},
   "outputs": [],
   "source": [
    "successful_renders = 0\n",
    "i = 0\n",
    "\n",
    "it = tqdm(total=1000)\n",
    "\n",
    "while successful_renders < 1000 and i < len(rppo_pickles):\n",
    "    pkl = rppo_pickles[i]\n",
    "    try:\n",
    "        mp4_from_pickle(pkl, video_output_dir / \"rppo\" / f\"{successful_renders:04d}.mp4\", fps=40, cameras=[2])\n",
    "        successful_renders += 1\n",
    "        it.update(1)\n",
    "    except EOFError:\n",
    "        print(f\"Failed to render {pkl}, deleting file.\")\n",
    "        pkl.unlink()\n",
    "    i += 1"
   ]
  },
  {
   "cell_type": "code",
   "execution_count": null,
   "metadata": {},
   "outputs": [],
   "source": [
    "# Make a txt file with the list of videos\n",
    "with open(video_output_dir / \"rppo\" / \"videos.txt\", \"w\") as f:\n",
    "    for i in range(1_000):\n",
    "        f.write(f\"file '{i:04d}.mp4'\\n\")\n"
   ]
  },
  {
   "cell_type": "markdown",
   "metadata": {},
   "source": [
    "### BC"
   ]
  },
  {
   "cell_type": "code",
   "execution_count": null,
   "metadata": {},
   "outputs": [],
   "source": [
    "bc_pickles = get_raw_paths(\n",
    "    domain=\"sim\",\n",
    "    controller=\"diffik\",\n",
    "    task=\"mug_rack\",\n",
    "    demo_outcome=[\"success\", \"failure\"],\n",
    "    suffix=\"bc\",\n",
    "    demo_source=\"rollout\",\n",
    "    randomness=\"low\",\n",
    ")\n",
    "\n",
    "random.shuffle(bc_pickles)\n",
    "\n",
    "len(bc_pickles)"
   ]
  },
  {
   "cell_type": "code",
   "execution_count": null,
   "metadata": {},
   "outputs": [],
   "source": [
    "successful_renders = 0\n",
    "i = 0\n",
    "\n",
    "it = tqdm(total=1000)\n",
    "\n",
    "while successful_renders < 1000 and i < len(bc_pickles):\n",
    "    pkl = bc_pickles[i]\n",
    "    try:\n",
    "        mp4_from_pickle(pkl, video_output_dir / \"bc\" / f\"{successful_renders:04d}.mp4\", fps=40, cameras=[2])\n",
    "        successful_renders += 1\n",
    "        it.update(1)\n",
    "    except EOFError:\n",
    "        print(f\"Failed to render {pkl}, deleting file.\")\n",
    "        pkl.unlink()\n",
    "    i += 1"
   ]
  },
  {
   "cell_type": "code",
   "execution_count": null,
   "metadata": {},
   "outputs": [],
   "source": [
    "# Make a txt file with the list of videos\n",
    "with open(video_output_dir / \"bc\" / \"videos.txt\", \"w\") as f:\n",
    "    for i in range(1_000):\n",
    "        f.write(f\"file '{i:04d}.mp4'\\n\")\n"
   ]
  }
 ],
 "metadata": {
  "kernelspec": {
   "display_name": "rr",
   "language": "python",
   "name": "python3"
  },
  "language_info": {
   "codemirror_mode": {
    "name": "ipython",
    "version": 3
   },
   "file_extension": ".py",
   "mimetype": "text/x-python",
   "name": "python",
   "nbconvert_exporter": "python",
   "pygments_lexer": "ipython3",
   "version": "3.8.19"
  }
 },
 "nbformat": 4,
 "nbformat_minor": 2
}
